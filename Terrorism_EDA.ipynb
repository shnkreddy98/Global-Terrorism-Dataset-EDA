{
 "cells": [
  {
   "cell_type": "markdown",
   "metadata": {},
   "source": [
    "# Exploratory Data Analysis"
   ]
  },
  {
   "cell_type": "markdown",
   "metadata": {},
   "source": [
    "The Global Terrorist Database is publicly available to search, browse, and download on the <a href = 'https://www.start.umd.edu/gtd/'> GTD website</a>. In 2019, the\n",
    "University of Maryland began a partnership with CHC Global to manage the commercial\n",
    "distribution of the GTD. All users of the GTD must accept the terms of the End User License\n",
    "Agreement."
   ]
  },
  {
   "cell_type": "code",
   "execution_count": 1,
   "metadata": {},
   "outputs": [],
   "source": [
    "import pandas as pd\n",
    "import numpy as np\n",
    "import matplotlib.pyplot as plt\n",
    "import seaborn as sns\n",
    "from nltk.corpus import stopwords\n",
    "from wordcloud import WordCloud\n",
    "\n",
    "\n",
    "import warnings\n",
    "\n",
    "warnings.filterwarnings('ignore')"
   ]
  },
  {
   "cell_type": "markdown",
   "metadata": {},
   "source": [
    "## Reading Data"
   ]
  },
  {
   "cell_type": "code",
   "execution_count": 2,
   "metadata": {},
   "outputs": [
    {
     "data": {
      "text/html": [
       "<div>\n",
       "<style scoped>\n",
       "    .dataframe tbody tr th:only-of-type {\n",
       "        vertical-align: middle;\n",
       "    }\n",
       "\n",
       "    .dataframe tbody tr th {\n",
       "        vertical-align: top;\n",
       "    }\n",
       "\n",
       "    .dataframe thead th {\n",
       "        text-align: right;\n",
       "    }\n",
       "</style>\n",
       "<table border=\"1\" class=\"dataframe\">\n",
       "  <thead>\n",
       "    <tr style=\"text-align: right;\">\n",
       "      <th></th>\n",
       "      <th>eventid</th>\n",
       "      <th>iyear</th>\n",
       "      <th>imonth</th>\n",
       "      <th>iday</th>\n",
       "      <th>approxdate</th>\n",
       "      <th>extended</th>\n",
       "      <th>resolution</th>\n",
       "      <th>country</th>\n",
       "      <th>country_txt</th>\n",
       "      <th>region</th>\n",
       "      <th>...</th>\n",
       "      <th>addnotes</th>\n",
       "      <th>scite1</th>\n",
       "      <th>scite2</th>\n",
       "      <th>scite3</th>\n",
       "      <th>dbsource</th>\n",
       "      <th>INT_LOG</th>\n",
       "      <th>INT_IDEO</th>\n",
       "      <th>INT_MISC</th>\n",
       "      <th>INT_ANY</th>\n",
       "      <th>related</th>\n",
       "    </tr>\n",
       "  </thead>\n",
       "  <tbody>\n",
       "    <tr>\n",
       "      <th>0</th>\n",
       "      <td>197000000001</td>\n",
       "      <td>1970</td>\n",
       "      <td>7</td>\n",
       "      <td>2</td>\n",
       "      <td>NaN</td>\n",
       "      <td>0</td>\n",
       "      <td>NaN</td>\n",
       "      <td>58</td>\n",
       "      <td>Dominican Republic</td>\n",
       "      <td>2</td>\n",
       "      <td>...</td>\n",
       "      <td>NaN</td>\n",
       "      <td>NaN</td>\n",
       "      <td>NaN</td>\n",
       "      <td>NaN</td>\n",
       "      <td>PGIS</td>\n",
       "      <td>0</td>\n",
       "      <td>0</td>\n",
       "      <td>0</td>\n",
       "      <td>0</td>\n",
       "      <td>NaN</td>\n",
       "    </tr>\n",
       "    <tr>\n",
       "      <th>1</th>\n",
       "      <td>197000000002</td>\n",
       "      <td>1970</td>\n",
       "      <td>0</td>\n",
       "      <td>0</td>\n",
       "      <td>NaN</td>\n",
       "      <td>0</td>\n",
       "      <td>NaN</td>\n",
       "      <td>130</td>\n",
       "      <td>Mexico</td>\n",
       "      <td>1</td>\n",
       "      <td>...</td>\n",
       "      <td>NaN</td>\n",
       "      <td>NaN</td>\n",
       "      <td>NaN</td>\n",
       "      <td>NaN</td>\n",
       "      <td>PGIS</td>\n",
       "      <td>0</td>\n",
       "      <td>1</td>\n",
       "      <td>1</td>\n",
       "      <td>1</td>\n",
       "      <td>NaN</td>\n",
       "    </tr>\n",
       "    <tr>\n",
       "      <th>2</th>\n",
       "      <td>197001000001</td>\n",
       "      <td>1970</td>\n",
       "      <td>1</td>\n",
       "      <td>0</td>\n",
       "      <td>NaN</td>\n",
       "      <td>0</td>\n",
       "      <td>NaN</td>\n",
       "      <td>160</td>\n",
       "      <td>Philippines</td>\n",
       "      <td>5</td>\n",
       "      <td>...</td>\n",
       "      <td>NaN</td>\n",
       "      <td>NaN</td>\n",
       "      <td>NaN</td>\n",
       "      <td>NaN</td>\n",
       "      <td>PGIS</td>\n",
       "      <td>-9</td>\n",
       "      <td>-9</td>\n",
       "      <td>1</td>\n",
       "      <td>1</td>\n",
       "      <td>NaN</td>\n",
       "    </tr>\n",
       "    <tr>\n",
       "      <th>3</th>\n",
       "      <td>197001000002</td>\n",
       "      <td>1970</td>\n",
       "      <td>1</td>\n",
       "      <td>0</td>\n",
       "      <td>NaN</td>\n",
       "      <td>0</td>\n",
       "      <td>NaN</td>\n",
       "      <td>78</td>\n",
       "      <td>Greece</td>\n",
       "      <td>8</td>\n",
       "      <td>...</td>\n",
       "      <td>NaN</td>\n",
       "      <td>NaN</td>\n",
       "      <td>NaN</td>\n",
       "      <td>NaN</td>\n",
       "      <td>PGIS</td>\n",
       "      <td>-9</td>\n",
       "      <td>-9</td>\n",
       "      <td>1</td>\n",
       "      <td>1</td>\n",
       "      <td>NaN</td>\n",
       "    </tr>\n",
       "    <tr>\n",
       "      <th>4</th>\n",
       "      <td>197001000003</td>\n",
       "      <td>1970</td>\n",
       "      <td>1</td>\n",
       "      <td>0</td>\n",
       "      <td>NaN</td>\n",
       "      <td>0</td>\n",
       "      <td>NaN</td>\n",
       "      <td>101</td>\n",
       "      <td>Japan</td>\n",
       "      <td>4</td>\n",
       "      <td>...</td>\n",
       "      <td>NaN</td>\n",
       "      <td>NaN</td>\n",
       "      <td>NaN</td>\n",
       "      <td>NaN</td>\n",
       "      <td>PGIS</td>\n",
       "      <td>-9</td>\n",
       "      <td>-9</td>\n",
       "      <td>1</td>\n",
       "      <td>1</td>\n",
       "      <td>NaN</td>\n",
       "    </tr>\n",
       "  </tbody>\n",
       "</table>\n",
       "<p>5 rows × 135 columns</p>\n",
       "</div>"
      ],
      "text/plain": [
       "        eventid  iyear  imonth  iday approxdate  extended resolution  country  \\\n",
       "0  197000000001   1970       7     2        NaN         0        NaN       58   \n",
       "1  197000000002   1970       0     0        NaN         0        NaN      130   \n",
       "2  197001000001   1970       1     0        NaN         0        NaN      160   \n",
       "3  197001000002   1970       1     0        NaN         0        NaN       78   \n",
       "4  197001000003   1970       1     0        NaN         0        NaN      101   \n",
       "\n",
       "          country_txt  region  ... addnotes scite1 scite2  scite3  dbsource  \\\n",
       "0  Dominican Republic       2  ...      NaN    NaN    NaN     NaN      PGIS   \n",
       "1              Mexico       1  ...      NaN    NaN    NaN     NaN      PGIS   \n",
       "2         Philippines       5  ...      NaN    NaN    NaN     NaN      PGIS   \n",
       "3              Greece       8  ...      NaN    NaN    NaN     NaN      PGIS   \n",
       "4               Japan       4  ...      NaN    NaN    NaN     NaN      PGIS   \n",
       "\n",
       "   INT_LOG  INT_IDEO INT_MISC INT_ANY  related  \n",
       "0        0         0        0       0      NaN  \n",
       "1        0         1        1       1      NaN  \n",
       "2       -9        -9        1       1      NaN  \n",
       "3       -9        -9        1       1      NaN  \n",
       "4       -9        -9        1       1      NaN  \n",
       "\n",
       "[5 rows x 135 columns]"
      ]
     },
     "execution_count": 2,
     "metadata": {},
     "output_type": "execute_result"
    }
   ],
   "source": [
    "df = pd.read_csv('globalterrorismdb_0718dist.csv', encoding = 'cp1252')\n",
    "df.head()"
   ]
  },
  {
   "cell_type": "code",
   "execution_count": 3,
   "metadata": {},
   "outputs": [
    {
     "data": {
      "text/plain": [
       "(181691, 135)"
      ]
     },
     "execution_count": 3,
     "metadata": {},
     "output_type": "execute_result"
    }
   ],
   "source": [
    "df.shape"
   ]
  },
  {
   "cell_type": "markdown",
   "metadata": {},
   "source": [
    "The dataset is a huge dataset with around 1 L data points and 135 columns."
   ]
  },
  {
   "cell_type": "code",
   "execution_count": 4,
   "metadata": {},
   "outputs": [
    {
     "data": {
      "text/html": [
       "<div>\n",
       "<style scoped>\n",
       "    .dataframe tbody tr th:only-of-type {\n",
       "        vertical-align: middle;\n",
       "    }\n",
       "\n",
       "    .dataframe tbody tr th {\n",
       "        vertical-align: top;\n",
       "    }\n",
       "\n",
       "    .dataframe thead th {\n",
       "        text-align: right;\n",
       "    }\n",
       "</style>\n",
       "<table border=\"1\" class=\"dataframe\">\n",
       "  <thead>\n",
       "    <tr style=\"text-align: right;\">\n",
       "      <th></th>\n",
       "      <th>eventid</th>\n",
       "      <th>iyear</th>\n",
       "      <th>imonth</th>\n",
       "      <th>iday</th>\n",
       "      <th>approxdate</th>\n",
       "      <th>extended</th>\n",
       "      <th>resolution</th>\n",
       "      <th>country</th>\n",
       "      <th>country_txt</th>\n",
       "      <th>region</th>\n",
       "      <th>...</th>\n",
       "      <th>addnotes</th>\n",
       "      <th>scite1</th>\n",
       "      <th>scite2</th>\n",
       "      <th>scite3</th>\n",
       "      <th>dbsource</th>\n",
       "      <th>INT_LOG</th>\n",
       "      <th>INT_IDEO</th>\n",
       "      <th>INT_MISC</th>\n",
       "      <th>INT_ANY</th>\n",
       "      <th>related</th>\n",
       "    </tr>\n",
       "  </thead>\n",
       "  <tbody>\n",
       "    <tr>\n",
       "      <th>0</th>\n",
       "      <td>197000000001</td>\n",
       "      <td>1970</td>\n",
       "      <td>7</td>\n",
       "      <td>2</td>\n",
       "      <td>NaN</td>\n",
       "      <td>0</td>\n",
       "      <td>NaN</td>\n",
       "      <td>58</td>\n",
       "      <td>Dominican Republic</td>\n",
       "      <td>2</td>\n",
       "      <td>...</td>\n",
       "      <td>NaN</td>\n",
       "      <td>NaN</td>\n",
       "      <td>NaN</td>\n",
       "      <td>NaN</td>\n",
       "      <td>PGIS</td>\n",
       "      <td>0</td>\n",
       "      <td>0</td>\n",
       "      <td>0</td>\n",
       "      <td>0</td>\n",
       "      <td>NaN</td>\n",
       "    </tr>\n",
       "    <tr>\n",
       "      <th>1</th>\n",
       "      <td>197000000002</td>\n",
       "      <td>1970</td>\n",
       "      <td>0</td>\n",
       "      <td>0</td>\n",
       "      <td>NaN</td>\n",
       "      <td>0</td>\n",
       "      <td>NaN</td>\n",
       "      <td>130</td>\n",
       "      <td>Mexico</td>\n",
       "      <td>1</td>\n",
       "      <td>...</td>\n",
       "      <td>NaN</td>\n",
       "      <td>NaN</td>\n",
       "      <td>NaN</td>\n",
       "      <td>NaN</td>\n",
       "      <td>PGIS</td>\n",
       "      <td>0</td>\n",
       "      <td>1</td>\n",
       "      <td>1</td>\n",
       "      <td>1</td>\n",
       "      <td>NaN</td>\n",
       "    </tr>\n",
       "    <tr>\n",
       "      <th>2</th>\n",
       "      <td>197001000001</td>\n",
       "      <td>1970</td>\n",
       "      <td>1</td>\n",
       "      <td>0</td>\n",
       "      <td>NaN</td>\n",
       "      <td>0</td>\n",
       "      <td>NaN</td>\n",
       "      <td>160</td>\n",
       "      <td>Philippines</td>\n",
       "      <td>5</td>\n",
       "      <td>...</td>\n",
       "      <td>NaN</td>\n",
       "      <td>NaN</td>\n",
       "      <td>NaN</td>\n",
       "      <td>NaN</td>\n",
       "      <td>PGIS</td>\n",
       "      <td>-9</td>\n",
       "      <td>-9</td>\n",
       "      <td>1</td>\n",
       "      <td>1</td>\n",
       "      <td>NaN</td>\n",
       "    </tr>\n",
       "    <tr>\n",
       "      <th>3</th>\n",
       "      <td>197001000002</td>\n",
       "      <td>1970</td>\n",
       "      <td>1</td>\n",
       "      <td>0</td>\n",
       "      <td>NaN</td>\n",
       "      <td>0</td>\n",
       "      <td>NaN</td>\n",
       "      <td>78</td>\n",
       "      <td>Greece</td>\n",
       "      <td>8</td>\n",
       "      <td>...</td>\n",
       "      <td>NaN</td>\n",
       "      <td>NaN</td>\n",
       "      <td>NaN</td>\n",
       "      <td>NaN</td>\n",
       "      <td>PGIS</td>\n",
       "      <td>-9</td>\n",
       "      <td>-9</td>\n",
       "      <td>1</td>\n",
       "      <td>1</td>\n",
       "      <td>NaN</td>\n",
       "    </tr>\n",
       "    <tr>\n",
       "      <th>4</th>\n",
       "      <td>197001000003</td>\n",
       "      <td>1970</td>\n",
       "      <td>1</td>\n",
       "      <td>0</td>\n",
       "      <td>NaN</td>\n",
       "      <td>0</td>\n",
       "      <td>NaN</td>\n",
       "      <td>101</td>\n",
       "      <td>Japan</td>\n",
       "      <td>4</td>\n",
       "      <td>...</td>\n",
       "      <td>NaN</td>\n",
       "      <td>NaN</td>\n",
       "      <td>NaN</td>\n",
       "      <td>NaN</td>\n",
       "      <td>PGIS</td>\n",
       "      <td>-9</td>\n",
       "      <td>-9</td>\n",
       "      <td>1</td>\n",
       "      <td>1</td>\n",
       "      <td>NaN</td>\n",
       "    </tr>\n",
       "  </tbody>\n",
       "</table>\n",
       "<p>5 rows × 135 columns</p>\n",
       "</div>"
      ],
      "text/plain": [
       "        eventid  iyear  imonth  iday approxdate  extended resolution  country  \\\n",
       "0  197000000001   1970       7     2        NaN         0        NaN       58   \n",
       "1  197000000002   1970       0     0        NaN         0        NaN      130   \n",
       "2  197001000001   1970       1     0        NaN         0        NaN      160   \n",
       "3  197001000002   1970       1     0        NaN         0        NaN       78   \n",
       "4  197001000003   1970       1     0        NaN         0        NaN      101   \n",
       "\n",
       "          country_txt  region  ... addnotes scite1 scite2  scite3  dbsource  \\\n",
       "0  Dominican Republic       2  ...      NaN    NaN    NaN     NaN      PGIS   \n",
       "1              Mexico       1  ...      NaN    NaN    NaN     NaN      PGIS   \n",
       "2         Philippines       5  ...      NaN    NaN    NaN     NaN      PGIS   \n",
       "3              Greece       8  ...      NaN    NaN    NaN     NaN      PGIS   \n",
       "4               Japan       4  ...      NaN    NaN    NaN     NaN      PGIS   \n",
       "\n",
       "   INT_LOG  INT_IDEO INT_MISC INT_ANY  related  \n",
       "0        0         0        0       0      NaN  \n",
       "1        0         1        1       1      NaN  \n",
       "2       -9        -9        1       1      NaN  \n",
       "3       -9        -9        1       1      NaN  \n",
       "4       -9        -9        1       1      NaN  \n",
       "\n",
       "[5 rows x 135 columns]"
      ]
     },
     "execution_count": 4,
     "metadata": {},
     "output_type": "execute_result"
    }
   ],
   "source": [
    "df.head()"
   ]
  },
  {
   "cell_type": "markdown",
   "metadata": {},
   "source": [
    "## Data Cleaning"
   ]
  },
  {
   "cell_type": "markdown",
   "metadata": {},
   "source": [
    "From observing and studying all the 135 columns we can drop the below mentioned column because of their repetitiveness, once as a ID and once as text. So we can drop the below mentioned columns.\n",
    "- county\n",
    "- region\n",
    "- alternative\n",
    "- attacktype1, attacktype2, attacktype3\n",
    "- targtype1, targsubtype1, targtype2, targtsubtype2 , targtype3, targsubtype3\n",
    "- natlty1, natly2, natly3\n",
    "- claimmode, claimmode2, claimmode3\n",
    "- weaptype1, weaptype2, weaptype3, weaptype4\n",
    "- weapsubtype1, weapsubtype2, weapsubtype4\n",
    "- propextent\n",
    "- hostkidoutcome"
   ]
  },
  {
   "cell_type": "code",
   "execution_count": 5,
   "metadata": {},
   "outputs": [],
   "source": [
    "df.drop(['country', 'region', 'alternative', 'attacktype1', 'attacktype2', 'attacktype3', 'targtype1', 'targsubtype1', \n",
    "         'targtype2', 'targsubtype2' , 'targtype3', 'targsubtype3', 'natlty1', 'natlty2', 'natlty3', 'claimmode', 'claimmode2',\n",
    "         'claimmode3', 'weaptype1', 'weaptype2', 'weaptype3', 'weaptype4', 'weapsubtype1', 'weapsubtype2', 'weapsubtype4', \n",
    "         'propextent', 'hostkidoutcome'], axis = 1, inplace = True)"
   ]
  },
  {
   "cell_type": "code",
   "execution_count": 6,
   "metadata": {},
   "outputs": [],
   "source": [
    "df = df.rename({'country_txt': 'Country', 'region_txt': 'Region'}, axis = 1)"
   ]
  },
  {
   "cell_type": "markdown",
   "metadata": {},
   "source": [
    "After removing the redundant data now we need to check for null values."
   ]
  },
  {
   "cell_type": "code",
   "execution_count": 7,
   "metadata": {},
   "outputs": [
    {
     "data": {
      "text/plain": [
       "Index(['approxdate', 'resolution', 'location', 'alternative_txt',\n",
       "       'attacktype2_txt', 'attacktype3_txt', 'targtype2_txt',\n",
       "       'targsubtype2_txt', 'corp2', 'target2', 'natlty2_txt', 'targtype3_txt',\n",
       "       'targsubtype3_txt', 'corp3', 'target3', 'natlty3_txt', 'gsubname',\n",
       "       'gname2', 'gsubname2', 'gname3', 'gsubname3', 'motive', 'guncertain2',\n",
       "       'guncertain3', 'claimmode_txt', 'claim2', 'claimmode2_txt', 'claim3',\n",
       "       'claimmode3_txt', 'compclaim', 'weaptype2_txt', 'weapsubtype2_txt',\n",
       "       'weaptype3_txt', 'weapsubtype3', 'weapsubtype3_txt', 'weaptype4_txt',\n",
       "       'weapsubtype4_txt', 'propextent_txt', 'propvalue', 'propcomment',\n",
       "       'nhostkid', 'nhostkidus', 'nhours', 'ndays', 'divert', 'kidhijcountry',\n",
       "       'ransom', 'ransomamt', 'ransomamtus', 'ransompaid', 'ransompaidus',\n",
       "       'ransomnote', 'hostkidoutcome_txt', 'nreleased', 'addnotes', 'scite2',\n",
       "       'scite3', 'related'],\n",
       "      dtype='object')"
      ]
     },
     "execution_count": 7,
     "metadata": {},
     "output_type": "execute_result"
    }
   ],
   "source": [
    "df.columns[df.isna().sum() / df.shape[0] > 0.4]"
   ]
  },
  {
   "cell_type": "markdown",
   "metadata": {},
   "source": [
    "As most of the columns have more than 40% missing values, we can just drop those as they will not help us to gain any insight."
   ]
  },
  {
   "cell_type": "code",
   "execution_count": 8,
   "metadata": {},
   "outputs": [],
   "source": [
    "df = df.loc[:, ~(df.isna().sum() / df.shape[0] > 0.4)]"
   ]
  },
  {
   "cell_type": "code",
   "execution_count": 9,
   "metadata": {},
   "outputs": [
    {
     "data": {
      "text/plain": [
       "(181691, 50)"
      ]
     },
     "execution_count": 9,
     "metadata": {},
     "output_type": "execute_result"
    }
   ],
   "source": [
    "df.shape"
   ]
  },
  {
   "cell_type": "markdown",
   "metadata": {},
   "source": [
    "There are about 50 columns remaining after deleting all the null values"
   ]
  },
  {
   "cell_type": "markdown",
   "metadata": {},
   "source": [
    "### Treating Missing Values"
   ]
  },
  {
   "cell_type": "code",
   "execution_count": 10,
   "metadata": {},
   "outputs": [
    {
     "data": {
      "text/plain": [
       "Index(['provstate', 'city', 'latitude', 'longitude', 'specificity', 'summary',\n",
       "       'doubtterr', 'multiple', 'targsubtype1_txt', 'corp1', 'target1',\n",
       "       'natlty1_txt', 'guncertain1', 'nperps', 'nperpcap', 'claimed',\n",
       "       'weapsubtype1_txt', 'weapdetail', 'nkill', 'nkillus', 'nkillter',\n",
       "       'nwound', 'nwoundus', 'nwoundte', 'ishostkid', 'scite1'],\n",
       "      dtype='object')"
      ]
     },
     "execution_count": 10,
     "metadata": {},
     "output_type": "execute_result"
    }
   ],
   "source": [
    "df.columns[df.isna().sum() / df.shape[0] > 0]"
   ]
  },
  {
   "cell_type": "code",
   "execution_count": 11,
   "metadata": {},
   "outputs": [
    {
     "data": {
      "text/plain": [
       "421"
      ]
     },
     "execution_count": 11,
     "metadata": {},
     "output_type": "execute_result"
    }
   ],
   "source": [
    "df.provstate.isna().sum()"
   ]
  },
  {
   "cell_type": "markdown",
   "metadata": {},
   "source": [
    "There are 421 missing state values, which can be filled if we know the city values."
   ]
  },
  {
   "cell_type": "code",
   "execution_count": 12,
   "metadata": {},
   "outputs": [
    {
     "data": {
      "text/plain": [
       "Unknown      9775\n",
       "Baghdad      7589\n",
       "Karachi      2652\n",
       "Lima         2359\n",
       "Mosul        2265\n",
       "             ... \n",
       "Audu            1\n",
       "Anatot          1\n",
       "Semdimli        1\n",
       "Calaca          1\n",
       "Sarakhakh       1\n",
       "Name: city, Length: 36674, dtype: int64"
      ]
     },
     "execution_count": 12,
     "metadata": {},
     "output_type": "execute_result"
    }
   ],
   "source": [
    "df.city.value_counts()"
   ]
  },
  {
   "cell_type": "markdown",
   "metadata": {},
   "source": [
    "9775 of the data points have 'Unknown' as the value for city name. This is troublesome we need to take care of this as this would effect our analysis."
   ]
  },
  {
   "cell_type": "code",
   "execution_count": 13,
   "metadata": {},
   "outputs": [
    {
     "data": {
      "text/plain": [
       "0"
      ]
     },
     "execution_count": 13,
     "metadata": {},
     "output_type": "execute_result"
    }
   ],
   "source": [
    "df.Country.isna().sum()"
   ]
  },
  {
   "cell_type": "code",
   "execution_count": 14,
   "metadata": {},
   "outputs": [
    {
     "data": {
      "text/plain": [
       "Iraq                   24636\n",
       "Pakistan               14368\n",
       "Afghanistan            12731\n",
       "India                  11960\n",
       "Colombia                8306\n",
       "                       ...  \n",
       "Antigua and Barbuda        1\n",
       "North Korea                1\n",
       "International              1\n",
       "Vatican City               1\n",
       "St. Lucia                  1\n",
       "Name: Country, Length: 205, dtype: int64"
      ]
     },
     "execution_count": 14,
     "metadata": {},
     "output_type": "execute_result"
    }
   ],
   "source": [
    "df.Country.value_counts()"
   ]
  },
  {
   "cell_type": "markdown",
   "metadata": {},
   "source": [
    "As coutnry value is present for all data points and there are no unkown values, we can drop all the location based information and just keep the country value, as keeping anything else will impact negatively on our data analysis."
   ]
  },
  {
   "cell_type": "code",
   "execution_count": 15,
   "metadata": {},
   "outputs": [
    {
     "data": {
      "text/plain": [
       "provstate     421\n",
       "city          434\n",
       "latitude     4556\n",
       "longitude    4557\n",
       "dtype: int64"
      ]
     },
     "execution_count": 15,
     "metadata": {},
     "output_type": "execute_result"
    }
   ],
   "source": [
    "df[['provstate', 'city', 'latitude', 'longitude']].isna().sum()"
   ]
  },
  {
   "cell_type": "code",
   "execution_count": 16,
   "metadata": {},
   "outputs": [
    {
     "data": {
      "text/plain": [
       "(181691, 46)"
      ]
     },
     "execution_count": 16,
     "metadata": {},
     "output_type": "execute_result"
    }
   ],
   "source": [
    "df.drop(['provstate', 'city', 'latitude', 'longitude'], axis = 1, inplace = True)\n",
    "df.shape"
   ]
  },
  {
   "cell_type": "markdown",
   "metadata": {},
   "source": [
    "On further inspection on the data dictionary from the <a href=\"https://www.start.umd.edu/gtd/downloads/Codebook.pdf\"> Data Dictionary</a>, we can deleted the unwanted columns."
   ]
  },
  {
   "cell_type": "code",
   "execution_count": 17,
   "metadata": {},
   "outputs": [],
   "source": [
    "df.drop(['specificity', 'vicinity', 'crit1', 'crit2', 'crit3', 'multiple', 'targsubtype1_txt', 'corp1', 'weapdetail', 'nkillus', \n",
    "  'nwoundus', 'property', 'INT_LOG', 'INT_IDEO', 'INT_MISC', 'eventid', 'target1', 'natlty1_txt', 'nperps', 'nperpcap', 'nkillter', 'nwoundte'], axis = 1, inplace = True)"
   ]
  },
  {
   "cell_type": "code",
   "execution_count": 18,
   "metadata": {},
   "outputs": [
    {
     "data": {
      "text/plain": [
       "Index(['summary', 'doubtterr', 'guncertain1', 'claimed', 'weapsubtype1_txt',\n",
       "       'nkill', 'nwound', 'ishostkid', 'scite1'],\n",
       "      dtype='object')"
      ]
     },
     "execution_count": 18,
     "metadata": {},
     "output_type": "execute_result"
    }
   ],
   "source": [
    "df.columns[df.isna().sum() / df.shape[0] > 0]"
   ]
  },
  {
   "cell_type": "code",
   "execution_count": 19,
   "metadata": {},
   "outputs": [
    {
     "data": {
      "text/plain": [
       "66129"
      ]
     },
     "execution_count": 19,
     "metadata": {},
     "output_type": "execute_result"
    }
   ],
   "source": [
    "df.summary.isna().sum()"
   ]
  },
  {
   "cell_type": "code",
   "execution_count": 20,
   "metadata": {},
   "outputs": [
    {
     "data": {
      "text/plain": [
       "09/00/2016: Sometime between September 18, 2016 and September 24, 2016, assailants detonated an explosive device at a civilian house in Dawr, Saladin, Iraq. There were no reported casualties resulting from the blast. No group claimed responsibility for the incident; however, sources attributed the attack to the Islamic State of Iraq and the Levant (ISIL).                                                                                                                                                                                                                                                                                                                                                100\n",
       "12/01/2016: Assailants detonated explosive devices that destroyed an electricity transmission tower in Albu Bali, Al Anbar, Iraq. This was one of 80 similar attacks targeting towers that resulted in the death of two military engineering team members. No group claimed responsibility for the incidents.                                                                                                                                                                                                                                                                                                                                                                                                         80\n",
       "05/29/2016: Security forces discovered and defused an explosives-rigged house in Sejar, Al Anbar, Iraq. No group claimed responsibility for the incident.                                                                                                                                                                                                                                                                                                                                                                                                                                                                                                                                                             50\n",
       "01/11/2016: Assailants set fire to a shop in Muqdadiyah, Diyala governorate, Iraq. There were no reported casualties in the incident. This was one of 36 shops set alight and one of 51 attacks in and around Muqdadiyah on the same day. No group claimed responsibility; however, sources attributed the incidents to Asa'ib Ahl al-Haqq and the Badr Brigades.                                                                                                                                                                                                                                                                                                                                                     36\n",
       "07/22/2016: Security forces discovered and defused an explosives-rigged house in Saqlawiyah, Al Anbar, Iraq. No group claimed responsibility for the incident.                                                                                                                                                                                                                                                                                                                                                                                                                                                                                                                                                        36\n",
       "                                                                                                                                                                                                                                                                                                                                                                                                                                                                                                                                                                                                                                                                                                                    ... \n",
       "05/28/2009: On Thursday evening at 1830, in Peshawar, North West Frontier, Pakistan, at the Kabari Bazaar, assailants detonated a vehicle-borne improvised explosive device (VBIED).  Two minutes later and a few steps away at the Qissa Khawani Bazaar, assailants detonated a second VBIED.  When the police arrived at the scene, armed assailants, taking shelter on a rooftop and inside a hotel, began firing at the police and public in general.  Authorities reported that the attacks killed five civilians, injured over 70 civilians and children, destroyed tons of vehicles, and damaged the markets. Taliban was held responsible, two militants were killed and two arrested by security forces.      1\n",
       "10/15/2012: Assailants shot Fazal Rabi Walizai in Jalalabad city, Nangarhar province, Afghanistan. Walizai, the director of the Public Works department of Jalalabad, was injured in the attack. No group claimed responsibility for the incident; however, authorities attributed it to the Taliban.                                                                                                                                                                                                                                                                                                                                                                                                                  1\n",
       "08/03/1998: In a series of related incidents, rebels belonging to the Fuerzas Armadas Revolucionarias de Colombia (FARC) and the National Liberation Army (NLA) conducted at least 42 attacks throughout the country on August 3 and August 4, 1998, leaving 275 dead and many wounded. In this incident on August 3rd, twenty-two policemen and soldiers were kidnapped, and 10 died when the Fuerzas Armadas Revolucionarias de Colombia (FARC) attacked the Miraflores counter-narcotics base in Guaviare Department of Colombia. The fate of the kidnapped was unknown.                                                                                                                                            1\n",
       "03/08/2017: An explosive device detonated near Armed Forces of the Philippines (AFP) soldiers in Timbangan, Maguindanao, Philippines. At lease one soldier was injured in the blast. No group claimed responsibility; however, sources attributed the attack to the Bangsamoro Islamic Freedom Movement (BIFM).                                                                                                                                                                                                                                                                                                                                                                                                        1\n",
       "11/08/2012: An explosive device detonated at Chak Phra festival, a Buddhist ceremonial fair, in Khok Pho district, Pattani province, Thailand. The device was hidden under a tree near a police checkpoint; five officers and one civilian were injured in the blast. No group claimed responsibility for the incident.                                                                                                                                                                                                                                                                                                                                                                                                1\n",
       "Name: summary, Length: 112492, dtype: int64"
      ]
     },
     "execution_count": 20,
     "metadata": {},
     "output_type": "execute_result"
    }
   ],
   "source": [
    "df.summary.value_counts()"
   ]
  },
  {
   "cell_type": "markdown",
   "metadata": {},
   "source": [
    "As you can see this column is the summary of the attacks, as we do not know the specifics of the missing value we just replace them with `Not Found` (string)."
   ]
  },
  {
   "cell_type": "code",
   "execution_count": 21,
   "metadata": {},
   "outputs": [],
   "source": [
    "df.summary = df.summary.fillna('Not Found')"
   ]
  },
  {
   "cell_type": "code",
   "execution_count": 22,
   "metadata": {},
   "outputs": [
    {
     "data": {
      "text/plain": [
       "1"
      ]
     },
     "execution_count": 22,
     "metadata": {},
     "output_type": "execute_result"
    }
   ],
   "source": [
    "df.doubtterr.isna().sum()"
   ]
  },
  {
   "cell_type": "code",
   "execution_count": 23,
   "metadata": {},
   "outputs": [
    {
     "data": {
      "text/plain": [
       " 0.0    138905\n",
       " 1.0     29001\n",
       "-9.0     13784\n",
       "Name: doubtterr, dtype: int64"
      ]
     },
     "execution_count": 23,
     "metadata": {},
     "output_type": "execute_result"
    }
   ],
   "source": [
    "df.doubtterr.value_counts()"
   ]
  },
  {
   "cell_type": "markdown",
   "metadata": {},
   "source": [
    "we can see that 0 and 1 is a binary representation and -9 may be a value for information not found, therefore we can fill -9 in the missing value."
   ]
  },
  {
   "cell_type": "code",
   "execution_count": 24,
   "metadata": {},
   "outputs": [],
   "source": [
    "df.doubtterr = df.doubtterr.fillna(-9)"
   ]
  },
  {
   "cell_type": "code",
   "execution_count": 25,
   "metadata": {},
   "outputs": [
    {
     "data": {
      "text/plain": [
       "iyear                0.00\n",
       "imonth               0.00\n",
       "iday                 0.00\n",
       "extended             0.00\n",
       "Country              0.00\n",
       "Region               0.00\n",
       "summary              0.00\n",
       "doubtterr            0.00\n",
       "success              0.00\n",
       "suicide              0.00\n",
       "attacktype1_txt      0.00\n",
       "targtype1_txt        0.00\n",
       "gname                0.00\n",
       "guncertain1          0.21\n",
       "individual           0.00\n",
       "claimed             36.39\n",
       "weaptype1_txt        0.00\n",
       "weapsubtype1_txt    11.43\n",
       "nkill                5.68\n",
       "nwound               8.98\n",
       "ishostkid            0.10\n",
       "scite1              36.43\n",
       "dbsource             0.00\n",
       "INT_ANY              0.00\n",
       "dtype: float64"
      ]
     },
     "execution_count": 25,
     "metadata": {},
     "output_type": "execute_result"
    }
   ],
   "source": [
    "round(df.isna().sum() / df.shape[0] * 100, 2)"
   ]
  },
  {
   "cell_type": "code",
   "execution_count": 26,
   "metadata": {},
   "outputs": [],
   "source": [
    "df.claimed = df.claimed.fillna(-9)"
   ]
  },
  {
   "cell_type": "code",
   "execution_count": 27,
   "metadata": {},
   "outputs": [
    {
     "data": {
      "text/plain": [
       "Unknown Explosive Type                       44980\n",
       "Unknown Gun Type                             33137\n",
       "Automatic or Semi-Automatic Rifle            17412\n",
       "Vehicle                                       9900\n",
       "Projectile (rockets, mortars, RPGs, etc.)     9848\n",
       "Other Explosive Type                          7304\n",
       "Handgun                                       6704\n",
       "Grenade                                       5167\n",
       "Landmine                                      4251\n",
       "Arson/Fire                                    4141\n",
       "Suicide (carried bodily by human being)       3245\n",
       "Remote Trigger                                2719\n",
       "Knife or Other Sharp Object                   2585\n",
       "Sticky Bomb                                   1594\n",
       "Molotov Cocktail/Petrol Bomb                  1239\n",
       "Dynamite/TNT                                  1222\n",
       "Rifle/Shotgun (non-automatic)                 1175\n",
       "Gasoline or Alcohol                            844\n",
       "Time Fuse                                      792\n",
       "Pipe Bomb                                      625\n",
       "Blunt Object                                   587\n",
       "Letter Bomb                                    548\n",
       "Hands, Feet, Fists                             231\n",
       "Pressure Trigger                               219\n",
       "Unknown Weapon Type                            107\n",
       "Rope or Other Strangling Device                103\n",
       "Other Gun Type                                  86\n",
       "Poisoning                                       83\n",
       "Explosive                                       65\n",
       "Suffocation                                     10\n",
       "Name: weapsubtype1_txt, dtype: int64"
      ]
     },
     "execution_count": 27,
     "metadata": {},
     "output_type": "execute_result"
    }
   ],
   "source": [
    "df.weapsubtype1_txt.value_counts()"
   ]
  },
  {
   "cell_type": "code",
   "execution_count": 28,
   "metadata": {},
   "outputs": [
    {
     "data": {
      "text/plain": [
       "20768"
      ]
     },
     "execution_count": 28,
     "metadata": {},
     "output_type": "execute_result"
    }
   ],
   "source": [
    "df.weapsubtype1_txt.isna().sum()"
   ]
  },
  {
   "cell_type": "markdown",
   "metadata": {},
   "source": [
    "As there are significant amount of missing values we can fill them with 'Unknown'"
   ]
  },
  {
   "cell_type": "code",
   "execution_count": 29,
   "metadata": {},
   "outputs": [],
   "source": [
    "df.weapsubtype1_txt = df.weapsubtype1_txt.fillna('Unknown')"
   ]
  },
  {
   "cell_type": "code",
   "execution_count": 30,
   "metadata": {},
   "outputs": [
    {
     "data": {
      "text/plain": [
       "0.0       88149\n",
       "1.0       36576\n",
       "2.0       14147\n",
       "3.0        7738\n",
       "4.0        4961\n",
       "          ...  \n",
       "122.0         1\n",
       "133.0         1\n",
       "1383.0        1\n",
       "134.0         1\n",
       "953.0         1\n",
       "Name: nkill, Length: 205, dtype: int64"
      ]
     },
     "execution_count": 30,
     "metadata": {},
     "output_type": "execute_result"
    }
   ],
   "source": [
    "df.nkill.value_counts()"
   ]
  },
  {
   "cell_type": "markdown",
   "metadata": {},
   "source": [
    "As it is a numeric column missing value won't effect the analysis and we will keep it as it is. Because there is no way we can guess no. of deaths."
   ]
  },
  {
   "cell_type": "code",
   "execution_count": 31,
   "metadata": {},
   "outputs": [
    {
     "data": {
      "text/plain": [
       "Committee on Government Operations United States Senate, \"Riots, Civil, and Criminal Disorders,\" U.S. Government Printing Office, August 6, 1970.    205\n",
       "\"ISIS detonates 5 empty homes in Daur using IEDs,\" Iraqi News, September 28, 2016.                                                                   106\n",
       "\"Iraq: Roundup of Security Incidents 18-24 March 2014,\" OSC Summary, March 25, 2014.                                                                  92\n",
       "\"Attack on 80 electricity towers in Anbar leaves 2 casualties,\" Iraqi News, December 1, 2016.                                                         80\n",
       "Edward F. Mickolus, Terrorism, 1996-2001 : A Chronology, Imprint Westport, CT: Greenwood Press, 2002.                                                 77\n",
       "                                                                                                                                                    ... \n",
       "\"Four detained inmall explosion case,\" Times of India, April 30, 2016.                                                                                 1\n",
       "\"North Lebanon kidnappers abduct 3 in broad daylight,\" Lebanon Daily Star, November 23, 2014.                                                          1\n",
       "\"Afghanistan: Death Toll Rises To Six In RTA TV Attack,\" TOLOnews Online, May 17, 2017.                                                                1\n",
       "\"UPDATE 1-Heavy battle in central Somalia kills dozens of fighters,\" Reuters News, March 20, 2012.                                                     1\n",
       "\"FACTBOX-Foreigners kidnapped in Africa,\" Reuters News, January 23, 2012.                                                                              1\n",
       "Name: scite1, Length: 83988, dtype: int64"
      ]
     },
     "execution_count": 31,
     "metadata": {},
     "output_type": "execute_result"
    }
   ],
   "source": [
    "df.scite1.value_counts()"
   ]
  },
  {
   "cell_type": "markdown",
   "metadata": {},
   "source": [
    "We can use the citations for word analysis."
   ]
  },
  {
   "cell_type": "code",
   "execution_count": 32,
   "metadata": {},
   "outputs": [
    {
     "data": {
      "text/plain": [
       "(181691, 24)"
      ]
     },
     "execution_count": 32,
     "metadata": {},
     "output_type": "execute_result"
    }
   ],
   "source": [
    "df.shape"
   ]
  },
  {
   "cell_type": "code",
   "execution_count": null,
   "metadata": {},
   "outputs": [],
   "source": [
    "df.head()"
   ]
  },
  {
   "cell_type": "code",
   "execution_count": null,
   "metadata": {},
   "outputs": [],
   "source": [
    "df.ishostkid = df.ishostkid.apply(lambda x : np.nan if x == -9 else x)"
   ]
  },
  {
   "cell_type": "markdown",
   "metadata": {},
   "source": [
    "## Data Visualization"
   ]
  },
  {
   "cell_type": "code",
   "execution_count": null,
   "metadata": {},
   "outputs": [],
   "source": [
    "df['Country'].value_counts(ascending = True).tail(10).plot(kind = 'barh', figsize = (12, 6), color = '#CC2A49')\n",
    "plt.title('Frequently attacked Countries', fontdict = {'size': 25})\n",
    "plt.xlabel('No. of Attacks', fontdict = {'size': 15})\n",
    "plt.ylabel('Countries', fontdict = {'size': 15})\n",
    "plt.show()"
   ]
  },
  {
   "cell_type": "markdown",
   "metadata": {},
   "source": [
    "Iraq was the most attacked country followed by Pakistan, Afghanistan and India."
   ]
  },
  {
   "cell_type": "code",
   "execution_count": null,
   "metadata": {},
   "outputs": [],
   "source": [
    "sns.countplot(x = 'Region', data = df)\n",
    "plt.xticks(Rotation = 90)\n",
    "plt.show()"
   ]
  },
  {
   "cell_type": "markdown",
   "metadata": {},
   "source": [
    "We can see that Middle East & North America have had the most number of attacks."
   ]
  },
  {
   "cell_type": "markdown",
   "metadata": {},
   "source": [
    "### Countries with most fatalities"
   ]
  },
  {
   "cell_type": "code",
   "execution_count": null,
   "metadata": {},
   "outputs": [],
   "source": [
    "plt.figure(figsize = (12, 6))\n",
    "df.groupby('Country')['nkill'].sum().sort_values(ascending = True).tail(10).plot(kind = 'barh', color = '#D01110')\n",
    "plt.title('Fatalities by Countries', fontdict = {'size': 25})\n",
    "plt.xlabel('Fatalitites', fontdict = {'size': 15})\n",
    "plt.ylabel('Countries', fontdict = {'size': 15})\n",
    "plt.show()"
   ]
  },
  {
   "cell_type": "markdown",
   "metadata": {},
   "source": [
    "Iraq has highest fatalities as there were more number of attacks in the same region."
   ]
  },
  {
   "cell_type": "markdown",
   "metadata": {},
   "source": [
    "### No. of Fatalities"
   ]
  },
  {
   "cell_type": "code",
   "execution_count": null,
   "metadata": {},
   "outputs": [],
   "source": [
    "df.groupby('iyear')['nkill', 'nwound'].sum().plot(kind = 'line', figsize = (12, 6), color = ['#D01110', '#0A0A00'])\n",
    "plt.title('Fatalities vs Wounded', fontdict = {'size': 25})\n",
    "plt.xlabel('Year', fontdict = {'size': 15})\n",
    "plt.ylabel('Civilians Dead', fontdict = {'size': 15})\n",
    "plt.show()"
   ]
  },
  {
   "cell_type": "markdown",
   "metadata": {},
   "source": [
    "The spike in wounds around 2001 represents the september 11 attacks and the 2015 - 2016 spike tells us that the most attacks have happened in that year. Which include Turkey–PKK conflict, Yemen Civil War and War in Afghanistan."
   ]
  },
  {
   "cell_type": "code",
   "execution_count": null,
   "metadata": {},
   "outputs": [],
   "source": [
    "df.groupby('iyear')['ishostkid'].sum().plot(kind = 'line', figsize = (12, 6), color = ['#D01110', '#0A0A00'])\n",
    "plt.title('Fatalities vs Wounded', fontdict = {'size': 25})\n",
    "plt.xlabel('Year', fontdict = {'size': 15})\n",
    "plt.ylabel('Civilians Dead', fontdict = {'size': 15})\n",
    "plt.show()"
   ]
  },
  {
   "cell_type": "markdown",
   "metadata": {},
   "source": [
    "There is a similiar peak for both total number of kills and no of people taken as hostages around the same year."
   ]
  },
  {
   "cell_type": "code",
   "execution_count": null,
   "metadata": {},
   "outputs": [],
   "source": [
    "plt.figure(figsize = (12, 6))\n",
    "sns.distplot(df['iyear'])\n",
    "plt.title('Attacks over the years', fontdict = {'size': 25})\n",
    "plt.xlabel('Year', fontdict = {'size': 15})\n",
    "plt.show()"
   ]
  },
  {
   "cell_type": "markdown",
   "metadata": {},
   "source": [
    "As you can see the number of fatalities and wounds has increased by the years "
   ]
  },
  {
   "cell_type": "markdown",
   "metadata": {},
   "source": [
    "### Weapons Used"
   ]
  },
  {
   "cell_type": "code",
   "execution_count": null,
   "metadata": {},
   "outputs": [],
   "source": [
    "df.weaptype1_txt = df.weaptype1_txt.replace('Other', 'Unknown')\n",
    "df.weaptype1_txt = df.weaptype1_txt.replace('Vehicle (not to include vehicle-borne explosives, i.e., car or truck bombs)', 'Vehicle')"
   ]
  },
  {
   "cell_type": "code",
   "execution_count": null,
   "metadata": {},
   "outputs": [],
   "source": [
    "sns.countplot(x = 'weaptype1_txt', data = df)\n",
    "plt.title('Weapons Used', fontdict = {'size': 25})\n",
    "plt.xticks(rotation = 90)\n",
    "plt.xlabel('Weapons', fontdict = {'size': 15})\n",
    "plt.ylabel('Count', fontdict = {'size': 15})\n",
    "plt.show()"
   ]
  },
  {
   "cell_type": "markdown",
   "metadata": {},
   "source": [
    "Weapons used in most of the attacks were either explosive or firearms."
   ]
  },
  {
   "cell_type": "code",
   "execution_count": null,
   "metadata": {},
   "outputs": [],
   "source": [
    "df['weapsubtype1_txt'].value_counts().plot(kind = 'bar', figsize = (10, 4), color = '#CC2A49')\n",
    "plt.title('Sub Weapons Used', fontdict = {'size': 25})\n",
    "plt.xlabel('Weapons', fontdict = {'size': 15})\n",
    "plt.ylabel('Count', fontdict = {'size': 15})\n",
    "plt.show()"
   ]
  },
  {
   "cell_type": "markdown",
   "metadata": {},
   "source": [
    "### Deaths by Weapon"
   ]
  },
  {
   "cell_type": "code",
   "execution_count": null,
   "metadata": {},
   "outputs": [],
   "source": [
    "df.groupby('weaptype1_txt')['nkill'].sum().sort_values(ascending = False).plot(kind = 'bar', color = '#D01110')\n",
    "plt.show()"
   ]
  },
  {
   "cell_type": "markdown",
   "metadata": {},
   "source": [
    "Firearms and Explosives were the weapons which casued the most fatalities."
   ]
  },
  {
   "cell_type": "markdown",
   "metadata": {},
   "source": [
    "### Active Terrorist Group"
   ]
  },
  {
   "cell_type": "code",
   "execution_count": null,
   "metadata": {},
   "outputs": [],
   "source": [
    "df[(df['guncertain1'] == 0) & (df['gname'] != 'Unknown')]['gname'].value_counts(ascending = True).tail(11).plot(kind = 'barh')\n",
    "plt.show()"
   ]
  },
  {
   "cell_type": "markdown",
   "metadata": {},
   "source": [
    "The most active terror group is Taliban followed by ISIL."
   ]
  },
  {
   "cell_type": "code",
   "execution_count": null,
   "metadata": {},
   "outputs": [],
   "source": [
    "df.INT_ANY = df.INT_ANY.apply(lambda x : np.nan if x == -9 else x)"
   ]
  },
  {
   "cell_type": "code",
   "execution_count": null,
   "metadata": {},
   "outputs": [],
   "source": [
    "df.INT_ANY.value_counts().plot(kind = 'pie', autopct=\"%.1f%%\")\n",
    "plt.title('Foreign Terrorist', fontdict = {'size': 25})\n",
    "plt.show()"
   ]
  },
  {
   "cell_type": "markdown",
   "metadata": {},
   "source": [
    "The attack was international only 38%  of the time, where the terrorist group was not of the same nationality as that of the place of attack."
   ]
  },
  {
   "cell_type": "code",
   "execution_count": null,
   "metadata": {},
   "outputs": [],
   "source": [
    "df.success.value_counts().plot(kind = 'pie', autopct=\"%.1f%%\")\n",
    "plt.title('Success Rate', fontdict = {'size': 25})\n",
    "plt.show()"
   ]
  },
  {
   "cell_type": "markdown",
   "metadata": {},
   "source": [
    "Terrorists succeeding on achieving their attacktype1 is over 88%"
   ]
  },
  {
   "cell_type": "code",
   "execution_count": null,
   "metadata": {},
   "outputs": [],
   "source": [
    "df.suicide.value_counts().plot(kind = 'pie', autopct=\"%.1f%%\")\n",
    "plt.title('Suicide Bomber', fontdict = {'size': 25})\n",
    "plt.show()"
   ]
  },
  {
   "cell_type": "markdown",
   "metadata": {},
   "source": [
    "There are less number of suicide bombers or the terrorists dying on the scene of attack."
   ]
  },
  {
   "cell_type": "markdown",
   "metadata": {},
   "source": [
    "### Frequent Attack Type"
   ]
  },
  {
   "cell_type": "code",
   "execution_count": null,
   "metadata": {},
   "outputs": [],
   "source": [
    "plt.figure(figsize = (10, 6))\n",
    "sns.countplot(x = 'attacktype1_txt', data = df)\n",
    "plt.title('Frequent Attack Type', fontdict = {'size': 25})\n",
    "plt.xlabel('Attack Type', fontdict = {'size': 15})\n",
    "plt.ylabel('Count', fontdict = {'size': 15})\n",
    "plt.xticks(rotation = 90)\n",
    "plt.show()"
   ]
  },
  {
   "cell_type": "markdown",
   "metadata": {},
   "source": [
    "In most of the attacks Bombing/Explosion was the type of primary attack type."
   ]
  },
  {
   "cell_type": "markdown",
   "metadata": {},
   "source": [
    "### Word Analysis"
   ]
  },
  {
   "cell_type": "code",
   "execution_count": null,
   "metadata": {},
   "outputs": [],
   "source": [
    "d = {}\n",
    "\n",
    "stop_words = set(stopwords.words('english'))  \n",
    "\n",
    "def addDict(line):\n",
    "    if line != 'Not Found':\n",
    "        words = line.split(' ')\n",
    "        for word in words:\n",
    "            if word not in stop_words:\n",
    "                if word.lower() in d:\n",
    "                    d[word.lower()] = d[word.lower()] + 1\n",
    "                else: \n",
    "                    d[word.lower()] = 1"
   ]
  },
  {
   "cell_type": "code",
   "execution_count": null,
   "metadata": {},
   "outputs": [],
   "source": [
    "for i in df['summary']:\n",
    "    addDict(i)"
   ]
  },
  {
   "cell_type": "code",
   "execution_count": null,
   "metadata": {},
   "outputs": [],
   "source": [
    "wc = WordCloud().generate_from_frequencies(d)\n",
    "plt.figure(figsize = (15, 25))\n",
    "plt.imshow(wc, interpolation=\"bilinear\")\n",
    "plt.axis(\"off\")\n",
    "plt.show()"
   ]
  },
  {
   "cell_type": "markdown",
   "metadata": {},
   "source": [
    "From the above cloud we can see that claimed has come up more number of times in the summary of the attack."
   ]
  },
  {
   "cell_type": "code",
   "execution_count": null,
   "metadata": {},
   "outputs": [],
   "source": [
    "sns.countplot(x= 'claimed', data = df)\n",
    "plt.title('Terrorist Attacks claimed by some group', fontdict = {'size': 25})\n",
    "plt.show()"
   ]
  },
  {
   "cell_type": "markdown",
   "metadata": {},
   "source": [
    "But from the claimed data we can see that not most of the attacks were claimed by any groups. Most of them were not claimed by any and half of them were missing values."
   ]
  },
  {
   "cell_type": "code",
   "execution_count": null,
   "metadata": {},
   "outputs": [],
   "source": [
    "sns.countplot(x= 'doubtterr', data = df)\n",
    "plt.title('Doubt that the attack was actually an act of Terrorism', fontdict = {'size': 25})\n",
    "plt.show()"
   ]
  },
  {
   "cell_type": "markdown",
   "metadata": {},
   "source": [
    "doubtterr variable defines whether the attack was doubtful to be a terror attack if 1 and if 0 there was no doubt it was a terror attack. So from the above graph you can see that most of the attacks were actual act of terrorism"
   ]
  },
  {
   "cell_type": "markdown",
   "metadata": {},
   "source": [
    "### Observations:\n",
    "- Iraq has the highest number of attacks throught the years also most fatalities were also from Iraq.\n",
    "- Middle East and South Asia has saw the most number of attacks throught the years.\n",
    "- Year 2015-2016 saw the most number of attacks and hence more number of fatalities.\n",
    "- Explosives and Firearms were the weapons used in most of the attacks.\n",
    "- 4 out of 10 times the terrorist were international.\n",
    "\n",
    "### Inferences:\n",
    "- As Firearms and Explosives were the weapons used most of the time, measures should be taken to detect explosives or firearms at all cost and at all places.\n",
    "- As 4 out of 10 times the terrorist were international, things like background check should be done thoroughly."
   ]
  }
 ],
 "metadata": {
  "kernelspec": {
   "display_name": "Python 3",
   "language": "python",
   "name": "python3"
  },
  "language_info": {
   "codemirror_mode": {
    "name": "ipython",
    "version": 3
   },
   "file_extension": ".py",
   "mimetype": "text/x-python",
   "name": "python",
   "nbconvert_exporter": "python",
   "pygments_lexer": "ipython3",
   "version": "3.8.3"
  }
 },
 "nbformat": 4,
 "nbformat_minor": 4
}
